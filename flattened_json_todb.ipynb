{
 "cells": [
  {
   "cell_type": "code",
   "execution_count": 17,
   "metadata": {},
   "outputs": [],
   "source": [
    "import pandas as pd\n",
    "import pyodbc\n",
    "import sqlalchemy as sa\n",
    "import psycopg2 as p\n",
    "import os\n",
    "import array\n",
    "import string\n",
    "import json\n",
    "import csv"
   ]
  },
  {
   "cell_type": "code",
   "execution_count": 18,
   "metadata": {
    "scrolled": true
   },
   "outputs": [
    {
     "name": "stderr",
     "output_type": "stream",
     "text": [
      "C:\\Program Files (x86)\\Microsoft Visual Studio\\Shared\\Anaconda3_64\\lib\\site-packages\\ipykernel_launcher.py:37: SettingWithCopyWarning: \n",
      "A value is trying to be set on a copy of a slice from a DataFrame\n",
      "\n",
      "See the caveats in the documentation: http://pandas.pydata.org/pandas-docs/stable/indexing.html#indexing-view-versus-copy\n"
     ]
    },
    {
     "name": "stdout",
     "output_type": "stream",
     "text": [
      "(48, 9)\n",
      "game\n",
      "(8749, 20)\n",
      "play\n"
     ]
    }
   ],
   "source": [
    "# This script reads all play-by-play flattened json files stored in the same folder, \n",
    "# normalizes them, and adds them to a postgres database. \n",
    "\n",
    "# path to folder \n",
    "filePath = r'C:\\Users\\mmgri\\Desktop\\flattened'\n",
    "\n",
    "# creating database connection string\n",
    "conn = p.connect(\"host=capstonealaindexing2018.postgres.database.azure.com dbname=mmgtest user=hstandeffer@capstonealaindexing2018 password=Alaindexing!\")\n",
    "cur = conn.cursor()\n",
    "\n",
    "# list for dataframes\n",
    "dfs = []\n",
    "\n",
    "# iterate through files in folder\n",
    "for file in os.listdir(filePath):\n",
    "    fileName = os.fsdecode(file)\n",
    "    \n",
    "    # find all json files\n",
    "    if fileName.endswith(\".json\"): \n",
    "        \n",
    "        # read json file to dataframe\n",
    "        df = pd.read_json(os.path.join(filePath, fileName), orient='columns')\n",
    "        \n",
    "        # add dataframe to list of dataframes\n",
    "        dfs.append(df)\n",
    "        continue\n",
    "    else:\n",
    "        continue\n",
    "\n",
    "# combine list into one dataframe\n",
    "df = pd.concat(dfs)\n",
    "\n",
    "# remove commas from descriptions to avoid erros\n",
    "df['description'] = df['description'].str.replace('[^\\w\\s]', '')\n",
    "\n",
    "# normalize dataframes \n",
    "dfGame = df[['awayAbbr', 'awayId', 'awayTeam', 'gameId', 'homeAbbr', 'homeId', 'homeTeam', 'week', 'year']]\n",
    "dfPlay = df[['awayScore', 'clock', 'defenseAbbr', 'defenseId', 'defenseTeam', 'description', 'distance', 'down', \n",
    "             'driveIndex', 'endYardLine', 'gameId', 'homeScore', 'offenseAbbr', 'offenseId', \n",
    "             'offenseTeam', 'playIndex', 'quarter', 'type', 'yardLine', 'yardsGained']]\n",
    "\n",
    "# remove duplicates from game\n",
    "dfGame.drop_duplicates(subset =\"gameId\", keep = 'first', inplace = True) \n",
    "\n",
    "# array for file names and table names \n",
    "fileNames = ['game', 'play']\n",
    "\n",
    "# array for dormalized dataframes\n",
    "dfNormalized = [dfGame, dfPlay]\n",
    "\n",
    "# loop to add files to postgres database\n",
    "for df, file in zip(dfNormalized, fileNames):\n",
    "    print(df.shape)\n",
    "    print(file)\n",
    "    \n",
    "    # writes dataframe to a csv \n",
    "    df.to_csv(r'C:\\Users\\mmgri\\Desktop\\csv\\\\' + file + '.csv', sep=',', index=False)\n",
    "    fileString = r'C:\\Users\\mmgri\\Desktop\\csv\\\\' + file + '.csv'\n",
    "    \n",
    "    # loads csv to database \n",
    "    with open(fileString, 'r') as f:\n",
    "        next(f)\n",
    "        cur = conn.cursor()\n",
    "        cur.copy_from(f, file, sep=',')\n",
    "        conn.commit()\n"
   ]
  },
  {
   "cell_type": "code",
   "execution_count": null,
   "metadata": {},
   "outputs": [],
   "source": []
  },
  {
   "cell_type": "code",
   "execution_count": null,
   "metadata": {},
   "outputs": [],
   "source": []
  },
  {
   "cell_type": "code",
   "execution_count": null,
   "metadata": {},
   "outputs": [],
   "source": []
  }
 ],
 "metadata": {
  "kernelspec": {
   "display_name": "Python 3",
   "language": "python",
   "name": "python3"
  },
  "language_info": {
   "codemirror_mode": {
    "name": "ipython",
    "version": 3
   },
   "file_extension": ".py",
   "mimetype": "text/x-python",
   "name": "python",
   "nbconvert_exporter": "python",
   "pygments_lexer": "ipython3",
   "version": "3.6.5"
  }
 },
 "nbformat": 4,
 "nbformat_minor": 2
}
