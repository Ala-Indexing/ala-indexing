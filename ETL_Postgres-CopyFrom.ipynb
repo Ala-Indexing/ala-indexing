{
 "cells": [
  {
   "cell_type": "code",
   "execution_count": 1,
   "metadata": {},
   "outputs": [],
   "source": [
    "#loading packages\n",
    "import pyodbc\n",
    "import csv\n",
    "import pandas as pd\n",
    "import sqlalchemy as sa\n",
    "import psycopg2\n",
    "import string"
   ]
  },
  {
   "cell_type": "code",
   "execution_count": 2,
   "metadata": {},
   "outputs": [
    {
     "name": "stdout",
     "output_type": "stream",
     "text": [
      "conference\n"
     ]
    },
    {
     "ename": "IntegrityError",
     "evalue": "duplicate key value violates unique constraint \"conference_pkey\"\nDETAIL:  Key (conferencecode)=(821) already exists.\nCONTEXT:  COPY conference, line 1\n",
     "output_type": "error",
     "traceback": [
      "\u001b[1;31m---------------------------------------------------------------------------\u001b[0m",
      "\u001b[1;31mIntegrityError\u001b[0m                            Traceback (most recent call last)",
      "\u001b[1;32m<ipython-input-2-837ab49a412a>\u001b[0m in \u001b[0;36m<module>\u001b[1;34m()\u001b[0m\n\u001b[0;32m     39\u001b[0m         \u001b[1;31m# Notice that we don't need the `csv` module.\u001b[0m\u001b[1;33m\u001b[0m\u001b[1;33m\u001b[0m\u001b[0m\n\u001b[0;32m     40\u001b[0m         \u001b[0mnext\u001b[0m\u001b[1;33m(\u001b[0m\u001b[0mf\u001b[0m\u001b[1;33m)\u001b[0m  \u001b[1;31m# Skip the header row.\u001b[0m\u001b[1;33m\u001b[0m\u001b[0m\n\u001b[1;32m---> 41\u001b[1;33m         \u001b[0mcur\u001b[0m\u001b[1;33m.\u001b[0m\u001b[0mcopy_from\u001b[0m\u001b[1;33m(\u001b[0m\u001b[0mf\u001b[0m\u001b[1;33m,\u001b[0m \u001b[0mname\u001b[0m\u001b[1;33m,\u001b[0m \u001b[0msep\u001b[0m\u001b[1;33m=\u001b[0m\u001b[1;34m','\u001b[0m\u001b[1;33m)\u001b[0m\u001b[1;33m\u001b[0m\u001b[0m\n\u001b[0m\u001b[0;32m     42\u001b[0m \u001b[1;33m\u001b[0m\u001b[0m\n\u001b[0;32m     43\u001b[0m     \u001b[0mconn\u001b[0m\u001b[1;33m.\u001b[0m\u001b[0mcommit\u001b[0m\u001b[1;33m(\u001b[0m\u001b[1;33m)\u001b[0m\u001b[1;33m\u001b[0m\u001b[0m\n",
      "\u001b[1;31mIntegrityError\u001b[0m: duplicate key value violates unique constraint \"conference_pkey\"\nDETAIL:  Key (conferencecode)=(821) already exists.\nCONTEXT:  COPY conference, line 1\n"
     ]
    }
   ],
   "source": [
    "#local file location\n",
    "fileLoc = r'C:\\Users\\HStandeffer17\\Downloads\\cfbstats-com-2006-1-5-0\\\\'\n",
    "\n",
    "#array of file names within folder\n",
    "dfArray = ['conference', 'stadium', 'team', 'game', 'game-statistics', 'player', 'player-game-statistics', 'team-game-statistics', 'drive', 'play', 'punt', 'punt-return', 'reception', 'rush', 'kickoff', 'kickoff-return', 'pass']\n",
    "\n",
    "#for loop that reads in file name based on fileLoc, and the current string item in dfArray (called \"name\" here)\n",
    "for name in dfArray:\n",
    "    #read csv in based on parameters\n",
    "    df = pd.read_csv(fileLoc + name + '.csv')\n",
    "    \n",
    "    #replace these three lines with one line to remove punctuation\n",
    "    df.columns = df.columns.str.replace(' ', '')\n",
    "    df.columns = df.columns.str.replace('-', '')\n",
    "    df.columns = df.columns.str.replace('/', '')\n",
    "    df.columns = df.columns.str.replace('1st', 'First')\n",
    "    df.columns = df.columns.str.lower()\n",
    "    \n",
    "    if name == 'player':\n",
    "        df[\"firstname\"] = df['firstname'].str.replace('[^\\w\\s]','')\n",
    "        df[\"lastname\"] = df['lastname'].str.replace('[^\\w\\s]','')\n",
    "        \n",
    "    if name == 'pass':\n",
    "        df['passerplayercode'] = df['passerplayercode'].astype(int)\n",
    "        df['receiverplayercode'] = df['passerplayercode'].astype(int)\n",
    "    \n",
    "    #removing dashes from table names\n",
    "    name = name.replace('-', '')\n",
    "    \n",
    "    #printing out progress and finally converting DataFrame to SQL\n",
    "    print(name)\n",
    "    cleanedName = name + '_cleaned.csv'\n",
    "    df.to_csv(r'C:\\Users\\HStandeffer17\\Desktop\\cleaned\\\\' + cleanedName, index=False)\n",
    "    \n",
    "    conn = psycopg2.connect(\"host=capstonealaindexing2018.postgres.database.azure.com dbname=test user=hstandeffer@capstonealaindexing2018 password=Alaindexing!\")\n",
    "    cur = conn.cursor()\n",
    "    fileString = r'C:\\Users\\HStandeffer17\\Desktop\\cleaned\\\\' + name + '_cleaned.csv'\n",
    "    with open(fileString, 'r') as f:\n",
    "        # Notice that we don't need the `csv` module.\n",
    "        next(f)  # Skip the header row.\n",
    "        cur.copy_from(f, name, sep=',')\n",
    "    \n",
    "    conn.commit()"
   ]
  },
  {
   "cell_type": "code",
   "execution_count": null,
   "metadata": {},
   "outputs": [],
   "source": [
    "cleanedName = 'player_cleaned.csv'\n",
    "  \n",
    "conn = psycopg2.connect(\"host=capstonealaindexing2018.postgres.database.azure.com dbname=test2 user=hstandeffer@capstonealaindexing2018 password=Alaindexing!\")\n",
    "cur = conn.cursor()\n",
    "fileString = r'C:\\Users\\HStandeffer17\\Desktop\\cleaned\\\\' + cleanedName\n",
    "print(fileString)\n",
    "with open(fileString, 'r') as f:\n",
    "    # Notice that we don't need the `csv` module.\n",
    "    next(f)  # Skip the header row.\n",
    "    cur.copy_from(f, 'player', sep=',')\n",
    "    \n",
    "conn.commit()"
   ]
  },
  {
   "cell_type": "code",
   "execution_count": null,
   "metadata": {},
   "outputs": [],
   "source": []
  }
 ],
 "metadata": {
  "kernelspec": {
   "display_name": "Python 3",
   "language": "python",
   "name": "python3"
  },
  "language_info": {
   "codemirror_mode": {
    "name": "ipython",
    "version": 3
   },
   "file_extension": ".py",
   "mimetype": "text/x-python",
   "name": "python",
   "nbconvert_exporter": "python",
   "pygments_lexer": "ipython3",
   "version": "3.6.5"
  }
 },
 "nbformat": 4,
 "nbformat_minor": 2
}
